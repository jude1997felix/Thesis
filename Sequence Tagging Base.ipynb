{
 "cells": [
  {
   "cell_type": "code",
   "execution_count": 21,
   "id": "descending-gravity",
   "metadata": {},
   "outputs": [],
   "source": [
    "import pandas as pd\n",
    "import numpy as np\n",
    "import transformers\n",
    "from datasets import Dataset, DatasetDict, Features, Sequence, ClassLabel, Value\n",
    "from transformers import AutoTokenizer\n",
    "from transformers import AutoModelForTokenClassification, TrainingArguments, Trainer\n",
    "\n",
    "from datasets import load_metric"
   ]
  },
  {
   "cell_type": "code",
   "execution_count": 2,
   "id": "necessary-theater",
   "metadata": {},
   "outputs": [
    {
     "data": {
      "text/html": [
       "<div>\n",
       "<style scoped>\n",
       "    .dataframe tbody tr th:only-of-type {\n",
       "        vertical-align: middle;\n",
       "    }\n",
       "\n",
       "    .dataframe tbody tr th {\n",
       "        vertical-align: top;\n",
       "    }\n",
       "\n",
       "    .dataframe thead th {\n",
       "        text-align: right;\n",
       "    }\n",
       "</style>\n",
       "<table border=\"1\" class=\"dataframe\">\n",
       "  <thead>\n",
       "    <tr style=\"text-align: right;\">\n",
       "      <th></th>\n",
       "      <th>tokens</th>\n",
       "      <th>tags</th>\n",
       "    </tr>\n",
       "  </thead>\n",
       "  <tbody>\n",
       "    <tr>\n",
       "      <th>0</th>\n",
       "      <td>okay</td>\n",
       "      <td>B-OTH</td>\n",
       "    </tr>\n",
       "    <tr>\n",
       "      <th>1</th>\n",
       "      <td>Maybe</td>\n",
       "      <td>B-OTH</td>\n",
       "    </tr>\n",
       "    <tr>\n",
       "      <th>2</th>\n",
       "      <td>before you get to</td>\n",
       "      <td>B-TGT_DESC I-TGT_DESC I-TGT_DESC I-TGT_DESC</td>\n",
       "    </tr>\n",
       "    <tr>\n",
       "      <th>3</th>\n",
       "      <td>Australia</td>\n",
       "      <td>I-TGT_DESC</td>\n",
       "    </tr>\n",
       "    <tr>\n",
       "      <th>4</th>\n",
       "      <td>it is</td>\n",
       "      <td>B-TGT_DESC I-TGT_DESC</td>\n",
       "    </tr>\n",
       "  </tbody>\n",
       "</table>\n",
       "</div>"
      ],
      "text/plain": [
       "              tokens                                         tags\n",
       "0               okay                                        B-OTH\n",
       "1              Maybe                                        B-OTH\n",
       "2  before you get to  B-TGT_DESC I-TGT_DESC I-TGT_DESC I-TGT_DESC\n",
       "3          Australia                                   I-TGT_DESC\n",
       "4              it is                        B-TGT_DESC I-TGT_DESC"
      ]
     },
     "execution_count": 2,
     "metadata": {},
     "output_type": "execute_result"
    }
   ],
   "source": [
    "df = pd.read_csv('FT_train_test_combined_seq_v0.0.txt', sep = \"\\t\", names = ['tokens','tags'])\n",
    "df.head()"
   ]
  },
  {
   "cell_type": "code",
   "execution_count": 3,
   "id": "previous-jewel",
   "metadata": {},
   "outputs": [
    {
     "data": {
      "text/html": [
       "<div>\n",
       "<style scoped>\n",
       "    .dataframe tbody tr th:only-of-type {\n",
       "        vertical-align: middle;\n",
       "    }\n",
       "\n",
       "    .dataframe tbody tr th {\n",
       "        vertical-align: top;\n",
       "    }\n",
       "\n",
       "    .dataframe thead th {\n",
       "        text-align: right;\n",
       "    }\n",
       "</style>\n",
       "<table border=\"1\" class=\"dataframe\">\n",
       "  <thead>\n",
       "    <tr style=\"text-align: right;\">\n",
       "      <th></th>\n",
       "      <th>tokens</th>\n",
       "      <th>tags</th>\n",
       "    </tr>\n",
       "  </thead>\n",
       "  <tbody>\n",
       "    <tr>\n",
       "      <th>0</th>\n",
       "      <td>[okay]</td>\n",
       "      <td>[B-OTH]</td>\n",
       "    </tr>\n",
       "    <tr>\n",
       "      <th>1</th>\n",
       "      <td>[Maybe]</td>\n",
       "      <td>[B-OTH]</td>\n",
       "    </tr>\n",
       "    <tr>\n",
       "      <th>2</th>\n",
       "      <td>[before, you, get, to]</td>\n",
       "      <td>[B-TGT_DESC, I-TGT_DESC, I-TGT_DESC, I-TGT_DESC]</td>\n",
       "    </tr>\n",
       "    <tr>\n",
       "      <th>3</th>\n",
       "      <td>[Australia]</td>\n",
       "      <td>[I-TGT_DESC]</td>\n",
       "    </tr>\n",
       "    <tr>\n",
       "      <th>4</th>\n",
       "      <td>[it, is]</td>\n",
       "      <td>[B-TGT_DESC, I-TGT_DESC]</td>\n",
       "    </tr>\n",
       "  </tbody>\n",
       "</table>\n",
       "</div>"
      ],
      "text/plain": [
       "                   tokens                                              tags\n",
       "0                  [okay]                                           [B-OTH]\n",
       "1                 [Maybe]                                           [B-OTH]\n",
       "2  [before, you, get, to]  [B-TGT_DESC, I-TGT_DESC, I-TGT_DESC, I-TGT_DESC]\n",
       "3             [Australia]                                      [I-TGT_DESC]\n",
       "4                [it, is]                          [B-TGT_DESC, I-TGT_DESC]"
      ]
     },
     "execution_count": 3,
     "metadata": {},
     "output_type": "execute_result"
    }
   ],
   "source": [
    "df['tokens'] = df['tokens'].str.split(' ')\n",
    "df['tags'] = df['tags'].str.split(' ')\n",
    "df.head()"
   ]
  },
  {
   "cell_type": "code",
   "execution_count": 4,
   "id": "soviet-nashville",
   "metadata": {},
   "outputs": [
    {
     "data": {
      "text/plain": [
       "6781"
      ]
     },
     "execution_count": 4,
     "metadata": {},
     "output_type": "execute_result"
    }
   ],
   "source": [
    "len(df)"
   ]
  },
  {
   "cell_type": "code",
   "execution_count": 5,
   "id": "ignored-mouse",
   "metadata": {},
   "outputs": [],
   "source": [
    "df = df.dropna()"
   ]
  },
  {
   "cell_type": "code",
   "execution_count": 6,
   "id": "serial-advertising",
   "metadata": {},
   "outputs": [
    {
     "data": {
      "text/plain": [
       "array([], dtype=int64)"
      ]
     },
     "execution_count": 6,
     "metadata": {},
     "output_type": "execute_result"
    }
   ],
   "source": [
    "np.where(df['tokens'].isnull())[0]"
   ]
  },
  {
   "cell_type": "code",
   "execution_count": 7,
   "id": "middle-france",
   "metadata": {},
   "outputs": [],
   "source": [
    "tag_dict = {'B-ANSWER': 1,\n",
    " 'B-FEEDBACK': 2,\n",
    " 'B-OTH': 3,\n",
    " 'B-QUESTION': 4,\n",
    " 'B-TGT_DESC': 5,\n",
    " 'I-ANSWER': 6,\n",
    " 'I-FEEDBACK': 7,\n",
    " 'I-OTH': 8,\n",
    " 'I-QUESTION': 9,\n",
    " 'I-TGT_DESC': 10}"
   ]
  },
  {
   "cell_type": "code",
   "execution_count": 8,
   "id": "alert-westminster",
   "metadata": {},
   "outputs": [
    {
     "data": {
      "text/html": [
       "<div>\n",
       "<style scoped>\n",
       "    .dataframe tbody tr th:only-of-type {\n",
       "        vertical-align: middle;\n",
       "    }\n",
       "\n",
       "    .dataframe tbody tr th {\n",
       "        vertical-align: top;\n",
       "    }\n",
       "\n",
       "    .dataframe thead th {\n",
       "        text-align: right;\n",
       "    }\n",
       "</style>\n",
       "<table border=\"1\" class=\"dataframe\">\n",
       "  <thead>\n",
       "    <tr style=\"text-align: right;\">\n",
       "      <th></th>\n",
       "      <th>tokens</th>\n",
       "      <th>tags</th>\n",
       "    </tr>\n",
       "  </thead>\n",
       "  <tbody>\n",
       "    <tr>\n",
       "      <th>0</th>\n",
       "      <td>[okay]</td>\n",
       "      <td>[3]</td>\n",
       "    </tr>\n",
       "    <tr>\n",
       "      <th>1</th>\n",
       "      <td>[Maybe]</td>\n",
       "      <td>[3]</td>\n",
       "    </tr>\n",
       "    <tr>\n",
       "      <th>2</th>\n",
       "      <td>[before, you, get, to]</td>\n",
       "      <td>[5, 10, 10, 10]</td>\n",
       "    </tr>\n",
       "    <tr>\n",
       "      <th>3</th>\n",
       "      <td>[Australia]</td>\n",
       "      <td>[10]</td>\n",
       "    </tr>\n",
       "    <tr>\n",
       "      <th>4</th>\n",
       "      <td>[it, is]</td>\n",
       "      <td>[5, 10]</td>\n",
       "    </tr>\n",
       "  </tbody>\n",
       "</table>\n",
       "</div>"
      ],
      "text/plain": [
       "                   tokens             tags\n",
       "0                  [okay]              [3]\n",
       "1                 [Maybe]              [3]\n",
       "2  [before, you, get, to]  [5, 10, 10, 10]\n",
       "3             [Australia]             [10]\n",
       "4                [it, is]          [5, 10]"
      ]
     },
     "execution_count": 8,
     "metadata": {},
     "output_type": "execute_result"
    }
   ],
   "source": [
    "for i,_ in enumerate(df.tags):\n",
    "    if i == 6297:\n",
    "        continue\n",
    "    elif i == 6594:\n",
    "        continue\n",
    "    else:\n",
    "        df.tags[i] = [tag_dict[item] for item in df.tags[i]]\n",
    "    \n",
    "df.tags[6779] = [tag_dict[item] for item in df.tags[6779]]\n",
    "df.tags[6780] = [tag_dict[item] for item in df.tags[6780]]\n",
    "df.head()"
   ]
  },
  {
   "cell_type": "code",
   "execution_count": 9,
   "id": "environmental-corner",
   "metadata": {},
   "outputs": [],
   "source": [
    "for i,_ in enumerate(df):\n",
    "    if len(df['tokens'][i]) != len(df['tags'][i]):\n",
    "        print(i)"
   ]
  },
  {
   "cell_type": "code",
   "execution_count": 10,
   "id": "accepting-arrest",
   "metadata": {},
   "outputs": [],
   "source": [
    "def to_1D(series):\n",
    " return pd.Series([x for _list in series for x in _list])"
   ]
  },
  {
   "cell_type": "code",
   "execution_count": 11,
   "id": "psychological-friend",
   "metadata": {},
   "outputs": [
    {
     "data": {
      "text/plain": [
       "10    21068\n",
       "5      4572\n",
       "8      2968\n",
       "9      2405\n",
       "3      1513\n",
       "2       803\n",
       "6       638\n",
       "1       616\n",
       "4       532\n",
       "7       531\n",
       "dtype: int64"
      ]
     },
     "execution_count": 11,
     "metadata": {},
     "output_type": "execute_result"
    }
   ],
   "source": [
    "to_1D(df['tags']).value_counts()"
   ]
  },
  {
   "cell_type": "code",
   "execution_count": 12,
   "id": "injured-julian",
   "metadata": {},
   "outputs": [],
   "source": [
    "tags = ['B-ANSWER',\n",
    " 'B-FEEDBACK',\n",
    " 'B-OTH',\n",
    " 'B-QUESTION',\n",
    " 'B-TGT_DESC',\n",
    " 'I-ANSWER',\n",
    " 'I-FEEDBACK',\n",
    " 'I-OTH',\n",
    " 'I-QUESTION',\n",
    " 'I-TGT_DESC']"
   ]
  },
  {
   "cell_type": "code",
   "execution_count": 13,
   "id": "cutting-colleague",
   "metadata": {},
   "outputs": [
    {
     "data": {
      "text/plain": [
       "10"
      ]
     },
     "execution_count": 13,
     "metadata": {},
     "output_type": "execute_result"
    }
   ],
   "source": [
    "len(tags)"
   ]
  },
  {
   "cell_type": "code",
   "execution_count": 14,
   "id": "micro-internet",
   "metadata": {},
   "outputs": [
    {
     "data": {
      "text/plain": [
       "DatasetDict({\n",
       "    train: Dataset({\n",
       "        features: ['tokens', 'tags'],\n",
       "        num_rows: 949\n",
       "    })\n",
       "    test: Dataset({\n",
       "        features: ['tokens', 'tags'],\n",
       "        num_rows: 203\n",
       "    })\n",
       "    validation: Dataset({\n",
       "        features: ['tokens', 'tags'],\n",
       "        num_rows: 204\n",
       "    })\n",
       "})"
      ]
     },
     "execution_count": 14,
     "metadata": {},
     "output_type": "execute_result"
    }
   ],
   "source": [
    "ds_all = Dataset.from_pandas(df, features=Features({\n",
    "                \"tokens\": Sequence(feature=Value(dtype='string', id=None), length=-1, id=None),\n",
    "                \"tags\": Sequence(feature=ClassLabel(num_classes=len(tags), names=tags, names_file=None, id=None), length=-1, id=None)\n",
    "            })).train_test_split(test_size=0.2)\n",
    "train_test = ds_all[\"test\"].train_test_split(test_size=0.3)\n",
    "test_validation = train_test[\"test\"].train_test_split(test_size=0.5)\n",
    "dataset = DatasetDict({\n",
    "    \"train\": train_test[\"train\"],\n",
    "    \"test\": test_validation[\"train\"],\n",
    "    \"validation\": test_validation[\"test\"]})\n",
    "dataset"
   ]
  },
  {
   "cell_type": "code",
   "execution_count": 15,
   "id": "remarkable-playback",
   "metadata": {},
   "outputs": [
    {
     "data": {
      "text/plain": [
       "{'tokens': Sequence(feature=Value(dtype='string', id=None), length=-1, id=None),\n",
       " 'tags': Sequence(feature=ClassLabel(num_classes=10, names=['B-ANSWER', 'B-FEEDBACK', 'B-OTH', 'B-QUESTION', 'B-TGT_DESC', 'I-ANSWER', 'I-FEEDBACK', 'I-OTH', 'I-QUESTION', 'I-TGT_DESC'], names_file=None, id=None), length=-1, id=None)}"
      ]
     },
     "execution_count": 15,
     "metadata": {},
     "output_type": "execute_result"
    }
   ],
   "source": [
    "dataset[\"train\"].features"
   ]
  },
  {
   "cell_type": "code",
   "execution_count": 16,
   "id": "little-jaguar",
   "metadata": {},
   "outputs": [],
   "source": [
    "model_checkpoint = \"distilbert-base-uncased\"\n",
    "batch_size = 16"
   ]
  },
  {
   "cell_type": "code",
   "execution_count": 17,
   "id": "vocational-danish",
   "metadata": {},
   "outputs": [],
   "source": [
    "tokenizer = AutoTokenizer.from_pretrained(model_checkpoint)"
   ]
  },
  {
   "cell_type": "code",
   "execution_count": 18,
   "id": "developed-calgary",
   "metadata": {},
   "outputs": [],
   "source": [
    "label_all_tokens = True"
   ]
  },
  {
   "cell_type": "code",
   "execution_count": 19,
   "id": "tender-mixture",
   "metadata": {},
   "outputs": [],
   "source": [
    "def tokenize_and_align_labels(examples):\n",
    "#     print('Works1')\n",
    "#     print(examples['tokens'])\n",
    "    tokenized_inputs = tokenizer(examples[\"tokens\"],  is_split_into_words=True)\n",
    "#     print('Works2')\n",
    "    labels = []\n",
    "    for i, label in enumerate(examples[\"tags\"]):\n",
    "        word_ids = tokenized_inputs.word_ids(batch_index=i)\n",
    "        previous_word_idx = None\n",
    "        label_ids = []\n",
    "        for word_idx in word_ids:\n",
    "            # Special tokens have a word id that is None. We set the label to -100 so they are automatically\n",
    "            # ignored in the loss function.\n",
    "            if word_idx is None:\n",
    "                label_ids.append(-100)\n",
    "            # We set the label for the first token of each word.\n",
    "            elif word_idx != previous_word_idx:\n",
    "                label_ids.append(label[word_idx])\n",
    "            # # For the other tokens in a word, we set the label to either the current label or -100, depending on\n",
    "            # # the label_all_tokens flag.\n",
    "            else:\n",
    "                label_ids.append(label[word_idx] if label_all_tokens else -100)\n",
    "            previous_word_idx = word_idx\n",
    "\n",
    "        labels.append(label_ids)\n",
    "\n",
    "    tokenized_inputs[\"labels\"] = labels\n",
    "    return tokenized_inputs"
   ]
  },
  {
   "cell_type": "code",
   "execution_count": 22,
   "id": "fifth-silence",
   "metadata": {},
   "outputs": [],
   "source": [
    "assert isinstance(tokenizer, transformers.PreTrainedTokenizerFast)"
   ]
  },
  {
   "cell_type": "code",
   "execution_count": 23,
   "id": "extraordinary-translation",
   "metadata": {},
   "outputs": [
    {
     "data": {
      "text/plain": [
       "{'input_ids': [101, 7592, 1010, 2023, 2003, 2028, 6251, 999, 102], 'attention_mask': [1, 1, 1, 1, 1, 1, 1, 1, 1]}"
      ]
     },
     "execution_count": 23,
     "metadata": {},
     "output_type": "execute_result"
    }
   ],
   "source": [
    "tokenizer(\"Hello, this is one sentence!\")"
   ]
  },
  {
   "cell_type": "code",
   "execution_count": 24,
   "id": "leading-restriction",
   "metadata": {},
   "outputs": [
    {
     "data": {
      "text/plain": [
       "{'tags': [5, 10], 'tokens': ['farthest', 'right']}"
      ]
     },
     "execution_count": 24,
     "metadata": {},
     "output_type": "execute_result"
    }
   ],
   "source": [
    "example = dataset[\"train\"][1]\n",
    "example"
   ]
  },
  {
   "cell_type": "code",
   "execution_count": 25,
   "id": "baking-porcelain",
   "metadata": {},
   "outputs": [
    {
     "data": {
      "text/plain": [
       "2"
      ]
     },
     "execution_count": 25,
     "metadata": {},
     "output_type": "execute_result"
    }
   ],
   "source": [
    "len(example['tags'])"
   ]
  },
  {
   "cell_type": "code",
   "execution_count": 26,
   "id": "boxed-overall",
   "metadata": {},
   "outputs": [
    {
     "name": "stdout",
     "output_type": "stream",
     "text": [
      "['[CLS]', 'far', '##thest', 'right', '[SEP]']\n"
     ]
    }
   ],
   "source": [
    "tokenized_input = tokenizer(example[\"tokens\"], is_split_into_words=True)\n",
    "tokens = tokenizer.convert_ids_to_tokens(tokenized_input[\"input_ids\"])\n",
    "print(tokens)\n",
    "# tokenized_input"
   ]
  },
  {
   "cell_type": "code",
   "execution_count": 27,
   "id": "deluxe-eligibility",
   "metadata": {},
   "outputs": [],
   "source": [
    "example = dataset[\"train\"][2]\n",
    "tokenized_input = tokenizer(example[\"tokens\"], is_split_into_words=True)"
   ]
  },
  {
   "cell_type": "code",
   "execution_count": 28,
   "id": "macro-separate",
   "metadata": {},
   "outputs": [
    {
     "data": {
      "text/plain": [
       "(2, 6)"
      ]
     },
     "execution_count": 28,
     "metadata": {},
     "output_type": "execute_result"
    }
   ],
   "source": [
    "len(example[\"tags\"]), len(tokenized_input[\"input_ids\"])"
   ]
  },
  {
   "cell_type": "code",
   "execution_count": 29,
   "id": "australian-boulder",
   "metadata": {},
   "outputs": [
    {
     "name": "stdout",
     "output_type": "stream",
     "text": [
      "6 6\n"
     ]
    }
   ],
   "source": [
    "word_ids = tokenized_input.word_ids()\n",
    "aligned_labels = [-100 if i is None else example[f\"tags\"][i] for i in word_ids]\n",
    "print(len(aligned_labels), len(tokenized_input[\"input_ids\"]))"
   ]
  },
  {
   "cell_type": "code",
   "execution_count": 30,
   "id": "related-generation",
   "metadata": {},
   "outputs": [
    {
     "data": {
      "application/vnd.jupyter.widget-view+json": {
       "model_id": "e430a371ae0147a6899993b272f632f3",
       "version_major": 2,
       "version_minor": 0
      },
      "text/plain": [
       "HBox(children=(FloatProgress(value=0.0, max=1.0), HTML(value='')))"
      ]
     },
     "metadata": {},
     "output_type": "display_data"
    },
    {
     "name": "stdout",
     "output_type": "stream",
     "text": [
      "\n"
     ]
    },
    {
     "data": {
      "application/vnd.jupyter.widget-view+json": {
       "model_id": "babf956eb39348c0a20cf3d6a0636319",
       "version_major": 2,
       "version_minor": 0
      },
      "text/plain": [
       "HBox(children=(FloatProgress(value=0.0, max=1.0), HTML(value='')))"
      ]
     },
     "metadata": {},
     "output_type": "display_data"
    },
    {
     "name": "stdout",
     "output_type": "stream",
     "text": [
      "\n"
     ]
    },
    {
     "data": {
      "application/vnd.jupyter.widget-view+json": {
       "model_id": "5bba208dffe145dcbbd3851d55a56e01",
       "version_major": 2,
       "version_minor": 0
      },
      "text/plain": [
       "HBox(children=(FloatProgress(value=0.0, max=1.0), HTML(value='')))"
      ]
     },
     "metadata": {},
     "output_type": "display_data"
    },
    {
     "name": "stdout",
     "output_type": "stream",
     "text": [
      "\n"
     ]
    }
   ],
   "source": [
    "tokenized_datasets = dataset.map(tokenize_and_align_labels,batched=True)"
   ]
  },
  {
   "cell_type": "code",
   "execution_count": 31,
   "id": "supported-right",
   "metadata": {},
   "outputs": [
    {
     "data": {
      "text/plain": [
       "DatasetDict({\n",
       "    train: Dataset({\n",
       "        features: ['attention_mask', 'input_ids', 'labels', 'tags', 'tokens'],\n",
       "        num_rows: 949\n",
       "    })\n",
       "    test: Dataset({\n",
       "        features: ['attention_mask', 'input_ids', 'labels', 'tags', 'tokens'],\n",
       "        num_rows: 203\n",
       "    })\n",
       "    validation: Dataset({\n",
       "        features: ['attention_mask', 'input_ids', 'labels', 'tags', 'tokens'],\n",
       "        num_rows: 204\n",
       "    })\n",
       "})"
      ]
     },
     "execution_count": 31,
     "metadata": {},
     "output_type": "execute_result"
    }
   ],
   "source": [
    "tokenized_datasets"
   ]
  },
  {
   "cell_type": "code",
   "execution_count": 32,
   "id": "fixed-cleaners",
   "metadata": {},
   "outputs": [],
   "source": [
    "for i,_ in enumerate(tokenized_datasets['test']):\n",
    "    if len(tokenized_datasets['test']['input_ids'][i]) != len(tokenized_datasets['test']['labels'][i]):\n",
    "        print(i)"
   ]
  },
  {
   "cell_type": "code",
   "execution_count": 33,
   "id": "actual-history",
   "metadata": {},
   "outputs": [
    {
     "data": {
      "text/plain": [
       "[-100, 4, -100]"
      ]
     },
     "execution_count": 33,
     "metadata": {},
     "output_type": "execute_result"
    }
   ],
   "source": [
    "tokenized_datasets['test']['labels'][3]"
   ]
  },
  {
   "cell_type": "code",
   "execution_count": 34,
   "id": "statutory-wallace",
   "metadata": {},
   "outputs": [
    {
     "name": "stderr",
     "output_type": "stream",
     "text": [
      "Some weights of the model checkpoint at distilbert-base-uncased were not used when initializing DistilBertForTokenClassification: ['vocab_transform.weight', 'vocab_transform.bias', 'vocab_layer_norm.weight', 'vocab_layer_norm.bias', 'vocab_projector.weight', 'vocab_projector.bias']\n",
      "- This IS expected if you are initializing DistilBertForTokenClassification from the checkpoint of a model trained on another task or with another architecture (e.g. initializing a BertForSequenceClassification model from a BertForPreTraining model).\n",
      "- This IS NOT expected if you are initializing DistilBertForTokenClassification from the checkpoint of a model that you expect to be exactly identical (initializing a BertForSequenceClassification model from a BertForSequenceClassification model).\n",
      "Some weights of DistilBertForTokenClassification were not initialized from the model checkpoint at distilbert-base-uncased and are newly initialized: ['classifier.weight', 'classifier.bias']\n",
      "You should probably TRAIN this model on a down-stream task to be able to use it for predictions and inference.\n"
     ]
    }
   ],
   "source": [
    "\n",
    "model = AutoModelForTokenClassification.from_pretrained(model_checkpoint, num_labels=len(tags)+1)"
   ]
  },
  {
   "cell_type": "code",
   "execution_count": 35,
   "id": "charged-indiana",
   "metadata": {},
   "outputs": [],
   "source": [
    "task = 'pos'\n",
    "args = TrainingArguments(\n",
    "    f\"test-{task}\",\n",
    "    evaluation_strategy = \"epoch\",\n",
    "    learning_rate=2e-5,\n",
    "    per_device_train_batch_size=batch_size,\n",
    "    per_device_eval_batch_size=batch_size,\n",
    "    num_train_epochs=3,\n",
    "    weight_decay=0.01,\n",
    ")"
   ]
  },
  {
   "cell_type": "code",
   "execution_count": 36,
   "id": "distinct-sunday",
   "metadata": {},
   "outputs": [],
   "source": [
    "from transformers import DataCollatorForTokenClassification\n",
    "data_collator = DataCollatorForTokenClassification(tokenizer)"
   ]
  },
  {
   "cell_type": "code",
   "execution_count": 37,
   "id": "sound-drove",
   "metadata": {},
   "outputs": [
    {
     "data": {
      "text/plain": [
       "DataCollatorForTokenClassification(tokenizer=PreTrainedTokenizerFast(name_or_path='distilbert-base-uncased', vocab_size=30522, model_max_len=512, is_fast=True, padding_side='right', special_tokens={'unk_token': '[UNK]', 'sep_token': '[SEP]', 'pad_token': '[PAD]', 'cls_token': '[CLS]', 'mask_token': '[MASK]'}), padding=True, max_length=None, pad_to_multiple_of=None, label_pad_token_id=-100)"
      ]
     },
     "execution_count": 37,
     "metadata": {},
     "output_type": "execute_result"
    }
   ],
   "source": [
    "data_collator"
   ]
  },
  {
   "cell_type": "code",
   "execution_count": 38,
   "id": "swedish-silence",
   "metadata": {},
   "outputs": [],
   "source": [
    "metric_more = load_metric(\"seqeval\")\n",
    "metric = load_metric(\"accuracy\")"
   ]
  },
  {
   "cell_type": "code",
   "execution_count": 39,
   "id": "brutal-oxford",
   "metadata": {},
   "outputs": [],
   "source": [
    "def compute_metrics(p):\n",
    "    predictions, labels = p\n",
    "    predictions = np.argmax(predictions, axis=2)\n",
    "    # Remove ignored index (special tokens)\n",
    "    true_predictions = []\n",
    "    true_labels = []\n",
    "    for i,_ in enumerate(predictions):\n",
    "        for j,_ in enumerate(predictions[i]):\n",
    "            if labels[i][j] != -100:\n",
    "                true_predictions.append([tags[predictions[i][j]-1]])\n",
    "                true_labels.append([tags[labels[i][j]-1]])\n",
    "    results = metric_more.compute(predictions=true_predictions, references=true_labels)\n",
    "    return {\n",
    "        \"precision\": results[\"overall_precision\"],\n",
    "        \"recall\": results[\"overall_recall\"],\n",
    "        \"f1\": results[\"overall_f1\"],\n",
    "        \"accuracy\": results[\"overall_accuracy\"],\n",
    "    }"
   ]
  },
  {
   "cell_type": "code",
   "execution_count": 40,
   "id": "established-pleasure",
   "metadata": {},
   "outputs": [],
   "source": [
    "trainer = Trainer(\n",
    "    model,\n",
    "    args,\n",
    "    train_dataset=tokenized_datasets[\"train\"],\n",
    "    eval_dataset=tokenized_datasets[\"validation\"],\n",
    "    data_collator=data_collator,\n",
    "    tokenizer=tokenizer,\n",
    "    compute_metrics=compute_metrics\n",
    ")"
   ]
  },
  {
   "cell_type": "code",
   "execution_count": 41,
   "id": "naval-capacity",
   "metadata": {},
   "outputs": [
    {
     "data": {
      "text/plain": [
       "{'OTH': {'precision': 1.0, 'recall': 1.0, 'f1': 1.0, 'number': 1},\n",
       " 'overall_precision': 1.0,\n",
       " 'overall_recall': 1.0,\n",
       " 'overall_f1': 1.0,\n",
       " 'overall_accuracy': 1.0}"
      ]
     },
     "execution_count": 41,
     "metadata": {},
     "output_type": "execute_result"
    }
   ],
   "source": [
    "labels = [tags[i-1] for i in example[\"tags\"]]\n",
    "metric_more.compute(predictions=[labels], references=[labels])"
   ]
  },
  {
   "cell_type": "code",
   "execution_count": 42,
   "id": "aerial-register",
   "metadata": {
    "scrolled": false
   },
   "outputs": [
    {
     "data": {
      "text/html": [
       "\n",
       "    <div>\n",
       "        <style>\n",
       "            /* Turns off some styling */\n",
       "            progress {\n",
       "                /* gets rid of default border in Firefox and Opera. */\n",
       "                border: none;\n",
       "                /* Needs to be in here for Safari polyfill so background images work as expected. */\n",
       "                background-size: auto;\n",
       "            }\n",
       "        </style>\n",
       "      \n",
       "      <progress value='180' max='180' style='width:300px; height:20px; vertical-align: middle;'></progress>\n",
       "      [180/180 03:51, Epoch 3/3]\n",
       "    </div>\n",
       "    <table border=\"1\" class=\"dataframe\">\n",
       "  <thead>\n",
       "    <tr style=\"text-align: left;\">\n",
       "      <th>Epoch</th>\n",
       "      <th>Training Loss</th>\n",
       "      <th>Validation Loss</th>\n",
       "      <th>Precision</th>\n",
       "      <th>Recall</th>\n",
       "      <th>F1</th>\n",
       "      <th>Accuracy</th>\n",
       "      <th>Runtime</th>\n",
       "      <th>Samples Per Second</th>\n",
       "    </tr>\n",
       "  </thead>\n",
       "  <tbody>\n",
       "    <tr>\n",
       "      <td>1</td>\n",
       "      <td>No log</td>\n",
       "      <td>0.846757</td>\n",
       "      <td>0.854299</td>\n",
       "      <td>0.854299</td>\n",
       "      <td>0.854299</td>\n",
       "      <td>0.729299</td>\n",
       "      <td>3.385100</td>\n",
       "      <td>60.264000</td>\n",
       "    </tr>\n",
       "    <tr>\n",
       "      <td>2</td>\n",
       "      <td>No log</td>\n",
       "      <td>0.668107</td>\n",
       "      <td>0.886943</td>\n",
       "      <td>0.886943</td>\n",
       "      <td>0.886943</td>\n",
       "      <td>0.802548</td>\n",
       "      <td>3.700600</td>\n",
       "      <td>55.127000</td>\n",
       "    </tr>\n",
       "    <tr>\n",
       "      <td>3</td>\n",
       "      <td>No log</td>\n",
       "      <td>0.621537</td>\n",
       "      <td>0.895701</td>\n",
       "      <td>0.895701</td>\n",
       "      <td>0.895701</td>\n",
       "      <td>0.817675</td>\n",
       "      <td>3.199300</td>\n",
       "      <td>63.763000</td>\n",
       "    </tr>\n",
       "  </tbody>\n",
       "</table><p>"
      ],
      "text/plain": [
       "<IPython.core.display.HTML object>"
      ]
     },
     "metadata": {},
     "output_type": "display_data"
    },
    {
     "data": {
      "text/plain": [
       "TrainOutput(global_step=180, training_loss=1.039308081732856, metrics={'train_runtime': 234.8519, 'train_samples_per_second': 0.766, 'total_flos': 22207186316010.0, 'epoch': 3.0, 'init_mem_cpu_alloc_delta': 398623, 'init_mem_cpu_peaked_delta': 11821, 'train_mem_cpu_alloc_delta': 398161, 'train_mem_cpu_peaked_delta': 1826183})"
      ]
     },
     "execution_count": 42,
     "metadata": {},
     "output_type": "execute_result"
    }
   ],
   "source": [
    "trainer.train()"
   ]
  },
  {
   "cell_type": "code",
   "execution_count": 43,
   "id": "northern-vessel",
   "metadata": {},
   "outputs": [
    {
     "data": {
      "text/html": [
       "\n",
       "    <div>\n",
       "        <style>\n",
       "            /* Turns off some styling */\n",
       "            progress {\n",
       "                /* gets rid of default border in Firefox and Opera. */\n",
       "                border: none;\n",
       "                /* Needs to be in here for Safari polyfill so background images work as expected. */\n",
       "                background-size: auto;\n",
       "            }\n",
       "        </style>\n",
       "      \n",
       "      <progress value='26' max='13' style='width:300px; height:20px; vertical-align: middle;'></progress>\n",
       "      [13/13 00:06]\n",
       "    </div>\n",
       "    "
      ],
      "text/plain": [
       "<IPython.core.display.HTML object>"
      ]
     },
     "metadata": {},
     "output_type": "display_data"
    },
    {
     "data": {
      "text/plain": [
       "{'eval_loss': 0.6215370297431946,\n",
       " 'eval_precision': 0.8957006369426752,\n",
       " 'eval_recall': 0.8957006369426752,\n",
       " 'eval_f1': 0.8957006369426752,\n",
       " 'eval_accuracy': 0.8176751592356688,\n",
       " 'eval_runtime': 3.8912,\n",
       " 'eval_samples_per_second': 52.426,\n",
       " 'epoch': 3.0,\n",
       " 'eval_mem_cpu_alloc_delta': 429067,\n",
       " 'eval_mem_cpu_peaked_delta': 1328864}"
      ]
     },
     "execution_count": 43,
     "metadata": {},
     "output_type": "execute_result"
    }
   ],
   "source": [
    "trainer.evaluate()"
   ]
  },
  {
   "cell_type": "code",
   "execution_count": 44,
   "id": "million-roommate",
   "metadata": {},
   "outputs": [],
   "source": [
    "predictions, labels, _ = trainer.predict(tokenized_datasets[\"test\"])\n",
    "predictions = np.argmax(predictions, axis=2)"
   ]
  },
  {
   "cell_type": "code",
   "execution_count": 45,
   "id": "twelve-athens",
   "metadata": {},
   "outputs": [],
   "source": [
    "true_predictions = []\n",
    "true_labels = []\n",
    "for i,_ in enumerate(predictions):\n",
    "    for j,_ in enumerate(predictions[i]):\n",
    "        if labels[i][j] != -100:\n",
    "            true_predictions.append([tags[predictions[i][j]-1]])\n",
    "            true_labels.append([tags[labels[i][j]-1]])\n"
   ]
  },
  {
   "cell_type": "code",
   "execution_count": 46,
   "id": "modern-fellowship",
   "metadata": {},
   "outputs": [
    {
     "data": {
      "text/plain": [
       "{'ANSWER': {'precision': 0.7894736842105263,\n",
       "  'recall': 0.39473684210526316,\n",
       "  'f1': 0.5263157894736843,\n",
       "  'number': 38},\n",
       " 'FEEDBACK': {'precision': 0.5121951219512195,\n",
       "  'recall': 0.375,\n",
       "  'f1': 0.4329896907216495,\n",
       "  'number': 56},\n",
       " 'OTH': {'precision': 0.5324675324675324,\n",
       "  'recall': 0.4823529411764706,\n",
       "  'f1': 0.5061728395061729,\n",
       "  'number': 170},\n",
       " 'QUESTION': {'precision': 0.8333333333333334,\n",
       "  'recall': 0.5405405405405406,\n",
       "  'f1': 0.6557377049180328,\n",
       "  'number': 74},\n",
       " 'TGT_DESC': {'precision': 0.8834498834498834,\n",
       "  'recall': 0.969309462915601,\n",
       "  'f1': 0.924390243902439,\n",
       "  'number': 782},\n",
       " 'overall_precision': 0.8178571428571428,\n",
       " 'overall_recall': 0.8178571428571428,\n",
       " 'overall_f1': 0.8178571428571428,\n",
       " 'overall_accuracy': 0.7535714285714286}"
      ]
     },
     "execution_count": 46,
     "metadata": {},
     "output_type": "execute_result"
    }
   ],
   "source": [
    "results = metric_more.compute(predictions=true_predictions, references=true_labels)\n",
    "results"
   ]
  },
  {
   "cell_type": "code",
   "execution_count": 48,
   "id": "individual-ocean",
   "metadata": {},
   "outputs": [],
   "source": [
    "# trainer.save_model('FT_model')"
   ]
  }
 ],
 "metadata": {
  "kernelspec": {
   "display_name": "Python 3",
   "language": "python",
   "name": "python3"
  },
  "language_info": {
   "codemirror_mode": {
    "name": "ipython",
    "version": 3
   },
   "file_extension": ".py",
   "mimetype": "text/x-python",
   "name": "python",
   "nbconvert_exporter": "python",
   "pygments_lexer": "ipython3",
   "version": "3.7.6"
  }
 },
 "nbformat": 4,
 "nbformat_minor": 5
}
